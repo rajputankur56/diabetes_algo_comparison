{
  "nbformat": 4,
  "nbformat_minor": 0,
  "metadata": {
    "colab": {
      "name": "load_diabetes.ipynb",
      "provenance": [],
      "authorship_tag": "ABX9TyNgjImFGO1yo9rlDzUJRPE9",
      "include_colab_link": true
    },
    "kernelspec": {
      "name": "python3",
      "display_name": "Python 3"
    }
  },
  "cells": [
    {
      "cell_type": "markdown",
      "metadata": {
        "id": "view-in-github",
        "colab_type": "text"
      },
      "source": [
        "<a href=\"https://colab.research.google.com/github/rajputankur56/diabetes_algo_comparison/blob/master/load_diabetes.ipynb\" target=\"_parent\"><img src=\"https://colab.research.google.com/assets/colab-badge.svg\" alt=\"Open In Colab\"/></a>"
      ]
    },
    {
      "cell_type": "code",
      "metadata": {
        "id": "29cbN_pme9NV",
        "colab_type": "code",
        "colab": {}
      },
      "source": [
        "from sklearn.datasets import load_diabetes\n",
        "import pandas as pd\n",
        "import numpy as np\n",
        "from sklearn.model_selection import train_test_split\n",
        "from sklearn.metrics import confusion_matrix\n",
        "from sklearn import svm"
      ],
      "execution_count": 2,
      "outputs": []
    },
    {
      "cell_type": "code",
      "metadata": {
        "id": "q_NVsp0KfsIY",
        "colab_type": "code",
        "colab": {}
      },
      "source": [
        "iris=load_diabetes()\n",
        "X = iris.data\n",
        "Y = iris.target"
      ],
      "execution_count": 3,
      "outputs": []
    },
    {
      "cell_type": "code",
      "metadata": {
        "id": "KDHl8hXCqota",
        "colab_type": "code",
        "colab": {
          "base_uri": "https://localhost:8080/",
          "height": 202
        },
        "outputId": "7396f728-8cd0-4d80-fac4-cec8c18bdd80"
      },
      "source": [
        "df = pd.DataFrame(X,Y,columns=iris.feature_names)\n",
        "df.head()"
      ],
      "execution_count": 4,
      "outputs": [
        {
          "output_type": "execute_result",
          "data": {
            "text/html": [
              "<div>\n",
              "<style scoped>\n",
              "    .dataframe tbody tr th:only-of-type {\n",
              "        vertical-align: middle;\n",
              "    }\n",
              "\n",
              "    .dataframe tbody tr th {\n",
              "        vertical-align: top;\n",
              "    }\n",
              "\n",
              "    .dataframe thead th {\n",
              "        text-align: right;\n",
              "    }\n",
              "</style>\n",
              "<table border=\"1\" class=\"dataframe\">\n",
              "  <thead>\n",
              "    <tr style=\"text-align: right;\">\n",
              "      <th></th>\n",
              "      <th>age</th>\n",
              "      <th>sex</th>\n",
              "      <th>bmi</th>\n",
              "      <th>bp</th>\n",
              "      <th>s1</th>\n",
              "      <th>s2</th>\n",
              "      <th>s3</th>\n",
              "      <th>s4</th>\n",
              "      <th>s5</th>\n",
              "      <th>s6</th>\n",
              "    </tr>\n",
              "  </thead>\n",
              "  <tbody>\n",
              "    <tr>\n",
              "      <th>151.0</th>\n",
              "      <td>0.038076</td>\n",
              "      <td>0.050680</td>\n",
              "      <td>0.061696</td>\n",
              "      <td>0.021872</td>\n",
              "      <td>-0.044223</td>\n",
              "      <td>-0.034821</td>\n",
              "      <td>-0.043401</td>\n",
              "      <td>-0.002592</td>\n",
              "      <td>0.019908</td>\n",
              "      <td>-0.017646</td>\n",
              "    </tr>\n",
              "    <tr>\n",
              "      <th>75.0</th>\n",
              "      <td>-0.001882</td>\n",
              "      <td>-0.044642</td>\n",
              "      <td>-0.051474</td>\n",
              "      <td>-0.026328</td>\n",
              "      <td>-0.008449</td>\n",
              "      <td>-0.019163</td>\n",
              "      <td>0.074412</td>\n",
              "      <td>-0.039493</td>\n",
              "      <td>-0.068330</td>\n",
              "      <td>-0.092204</td>\n",
              "    </tr>\n",
              "    <tr>\n",
              "      <th>141.0</th>\n",
              "      <td>0.085299</td>\n",
              "      <td>0.050680</td>\n",
              "      <td>0.044451</td>\n",
              "      <td>-0.005671</td>\n",
              "      <td>-0.045599</td>\n",
              "      <td>-0.034194</td>\n",
              "      <td>-0.032356</td>\n",
              "      <td>-0.002592</td>\n",
              "      <td>0.002864</td>\n",
              "      <td>-0.025930</td>\n",
              "    </tr>\n",
              "    <tr>\n",
              "      <th>206.0</th>\n",
              "      <td>-0.089063</td>\n",
              "      <td>-0.044642</td>\n",
              "      <td>-0.011595</td>\n",
              "      <td>-0.036656</td>\n",
              "      <td>0.012191</td>\n",
              "      <td>0.024991</td>\n",
              "      <td>-0.036038</td>\n",
              "      <td>0.034309</td>\n",
              "      <td>0.022692</td>\n",
              "      <td>-0.009362</td>\n",
              "    </tr>\n",
              "    <tr>\n",
              "      <th>135.0</th>\n",
              "      <td>0.005383</td>\n",
              "      <td>-0.044642</td>\n",
              "      <td>-0.036385</td>\n",
              "      <td>0.021872</td>\n",
              "      <td>0.003935</td>\n",
              "      <td>0.015596</td>\n",
              "      <td>0.008142</td>\n",
              "      <td>-0.002592</td>\n",
              "      <td>-0.031991</td>\n",
              "      <td>-0.046641</td>\n",
              "    </tr>\n",
              "  </tbody>\n",
              "</table>\n",
              "</div>"
            ],
            "text/plain": [
              "            age       sex       bmi  ...        s4        s5        s6\n",
              "151.0  0.038076  0.050680  0.061696  ... -0.002592  0.019908 -0.017646\n",
              "75.0  -0.001882 -0.044642 -0.051474  ... -0.039493 -0.068330 -0.092204\n",
              "141.0  0.085299  0.050680  0.044451  ... -0.002592  0.002864 -0.025930\n",
              "206.0 -0.089063 -0.044642 -0.011595  ...  0.034309  0.022692 -0.009362\n",
              "135.0  0.005383 -0.044642 -0.036385  ... -0.002592 -0.031991 -0.046641\n",
              "\n",
              "[5 rows x 10 columns]"
            ]
          },
          "metadata": {
            "tags": []
          },
          "execution_count": 4
        }
      ]
    },
    {
      "cell_type": "code",
      "metadata": {
        "id": "UvRDtLcXhInb",
        "colab_type": "code",
        "colab": {}
      },
      "source": [
        "X_train,X_test,Y_train,Y_test =  train_test_split(X,Y,train_size = 0.2,random_state = 10)"
      ],
      "execution_count": 5,
      "outputs": []
    },
    {
      "cell_type": "code",
      "metadata": {
        "id": "fz8yeMHvnQ6Z",
        "colab_type": "code",
        "colab": {
          "base_uri": "https://localhost:8080/",
          "height": 35
        },
        "outputId": "b5135af6-a9dd-44e6-b71a-279e18ecad41"
      },
      "source": [
        "from sklearn.linear_model import LinearRegression\n",
        "reg = LinearRegression()\n",
        "reg.fit(X_train,Y_train)\n",
        "ypred = reg.predict(X_test)\n",
        "lin_score = reg.score(X_test,Y_test)\n",
        "lin_score"
      ],
      "execution_count": 6,
      "outputs": [
        {
          "output_type": "execute_result",
          "data": {
            "text/plain": [
              "0.438454194569039"
            ]
          },
          "metadata": {
            "tags": []
          },
          "execution_count": 6
        }
      ]
    },
    {
      "cell_type": "code",
      "metadata": {
        "id": "Ivv5qIXboFit",
        "colab_type": "code",
        "colab": {
          "base_uri": "https://localhost:8080/",
          "height": 35
        },
        "outputId": "b17746c0-8e87-4a14-8b8f-f1e7f76e2a40"
      },
      "source": [
        "from sklearn.svm import SVR\n",
        "reg = SVR()\n",
        "reg.fit(X_train,Y_train)\n",
        "ypred = reg.predict(X_test)\n",
        "lin_score = reg.score(X_test,Y_test)\n",
        "lin_score"
      ],
      "execution_count": 7,
      "outputs": [
        {
          "output_type": "execute_result",
          "data": {
            "text/plain": [
              "0.05476823990965052"
            ]
          },
          "metadata": {
            "tags": []
          },
          "execution_count": 7
        }
      ]
    },
    {
      "cell_type": "code",
      "metadata": {
        "id": "nNFYHbX3oOij",
        "colab_type": "code",
        "colab": {
          "base_uri": "https://localhost:8080/",
          "height": 35
        },
        "outputId": "0efa5370-0b62-41cf-b3e6-ecf486601f2a"
      },
      "source": [
        "from sklearn.tree import DecisionTreeRegressor\n",
        "reg = DecisionTreeRegressor(splitter='random',max_depth=30,min_samples_split=3)\n",
        "reg.fit(X_train,Y_train)\n",
        "ypred = reg.predict(X_test)\n",
        "lin_score = reg.score(X_test,Y_test)\n",
        "lin_score"
      ],
      "execution_count": 8,
      "outputs": [
        {
          "output_type": "execute_result",
          "data": {
            "text/plain": [
              "-0.10439834182226049"
            ]
          },
          "metadata": {
            "tags": []
          },
          "execution_count": 8
        }
      ]
    },
    {
      "cell_type": "code",
      "metadata": {
        "id": "aF0NinYso4vG",
        "colab_type": "code",
        "colab": {
          "base_uri": "https://localhost:8080/",
          "height": 35
        },
        "outputId": "95bbef5d-a045-405e-bbe2-f6d796937cdd"
      },
      "source": [
        "from sklearn.ensemble import RandomForestRegressor\n",
        "reg = RandomForestRegressor(n_estimators=500,max_depth=20,max_features='sqrt',min_samples_split=8)\n",
        "reg.fit(X_train,Y_train)\n",
        "ypred = reg.predict(X_test)\n",
        "lin_score = reg.score(X_test,Y_test)\n",
        "lin_score"
      ],
      "execution_count": 9,
      "outputs": [
        {
          "output_type": "execute_result",
          "data": {
            "text/plain": [
              "0.445114327346514"
            ]
          },
          "metadata": {
            "tags": []
          },
          "execution_count": 9
        }
      ]
    },
    {
      "cell_type": "code",
      "metadata": {
        "id": "unOrqCKNiy9m",
        "colab_type": "code",
        "colab": {}
      },
      "source": [
        "lin_model = svm.SVC(kernel = 'linear',C = 0.1,decision_function_shape='ovo').fit(X_train,Y_train)\n",
        "\n",
        "rbf_model = svm.SVC(kernel = 'rbf',gamma = 1,C=1,decision_function_shape='ovo').fit(X_train,Y_train)\n",
        "\n",
        "poly_model = svm.SVC(kernel = 'poly',degree=5,C=1,decision_function_shape='ovo').fit(X_train,Y_train)\n",
        "\n",
        "sigmoid_model = svm.SVC(kernel = 'sigmoid',C=1,decision_function_shape='ovo').fit(X_train,Y_train)"
      ],
      "execution_count": 10,
      "outputs": []
    },
    {
      "cell_type": "code",
      "metadata": {
        "id": "Z83d6gKsi46_",
        "colab_type": "code",
        "colab": {}
      },
      "source": [
        "lin_pred = lin_model.predict(X_test)\n",
        "rbf_pred = rbf_model.predict(X_test)\n",
        "poly_pred = poly_model.predict(X_test)\n",
        "sigmoid_pred = sigmoid_model.predict(X_test)\n",
        "lin_pred"
      ],
      "execution_count": null,
      "outputs": []
    },
    {
      "cell_type": "code",
      "metadata": {
        "id": "4f4BuR4-i-7_",
        "colab_type": "code",
        "colab": {
          "base_uri": "https://localhost:8080/",
          "height": 89
        },
        "outputId": "9ca2229d-30c2-40b7-cce5-6656a51c085a"
      },
      "source": [
        "lin_score = lin_model.score(X_test,Y_test)\n",
        "rbf_score = rbf_model.score(X_test,Y_test)\n",
        "poly_score = poly_model.score(X_test,Y_test)\n",
        "sigmoid_score = sigmoid_model.score(X_test,Y_test)\n",
        "\n",
        "print(\"Accuracy of Linear SVC --> \",lin_score)\n",
        "print(\"Accuracy of RBF SVC --> \",rbf_score)\n",
        "print(\"Accuracy of poly SVC --> \",poly_score)\n",
        "print(\"Accuracy of Sigmoid SVC --> \",sigmoid_score)"
      ],
      "execution_count": 12,
      "outputs": [
        {
          "output_type": "stream",
          "text": [
            "Accuracy of Linear SVC -->  0.0\n",
            "Accuracy of RBF SVC -->  0.0\n",
            "Accuracy of poly SVC -->  0.0\n",
            "Accuracy of Sigmoid SVC -->  0.0\n"
          ],
          "name": "stdout"
        }
      ]
    }
  ]
}